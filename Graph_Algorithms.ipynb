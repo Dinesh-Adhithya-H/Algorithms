{
  "nbformat": 4,
  "nbformat_minor": 0,
  "metadata": {
    "colab": {
      "name": "Graph_Algorithms.ipynb",
      "provenance": [],
      "authorship_tag": "ABX9TyOvfU69uQxg3QNk/DrJeEcO",
      "include_colab_link": true
    },
    "kernelspec": {
      "name": "python3",
      "display_name": "Python 3"
    },
    "language_info": {
      "name": "python"
    }
  },
  "cells": [
    {
      "cell_type": "markdown",
      "metadata": {
        "id": "view-in-github",
        "colab_type": "text"
      },
      "source": [
        "<a href=\"https://colab.research.google.com/github/Dinesh-Adhithya-H/Algorithms/blob/main/Graph_Algorithms.ipynb\" target=\"_parent\"><img src=\"https://colab.research.google.com/assets/colab-badge.svg\" alt=\"Open In Colab\"/></a>"
      ]
    },
    {
      "cell_type": "code",
      "metadata": {
        "id": "Bvhw5HZLchlb"
      },
      "source": [
        "class node:\n",
        "  def __init__(self,val):\n",
        "    self.left=None\n",
        "    self.right=None\n",
        "    self.val=val"
      ],
      "execution_count": null,
      "outputs": []
    },
    {
      "cell_type": "markdown",
      "metadata": {
        "id": "EEK9tiI0hlwL"
      },
      "source": [
        "# Breadth First Search"
      ]
    },
    {
      "cell_type": "code",
      "metadata": {
        "id": "NxcgEq4zct0T"
      },
      "source": [
        "def levels_nodes(graph,v,x):\n",
        "  level=[None]*v\n",
        "  marked=[False]*v\n",
        "  #print(level,marked)\n",
        "  queue=[]\n",
        "  queue.append(x)\n",
        "  level[x]=0\n",
        "  marked[x]=True\n",
        "  while len(queue)!=0:\n",
        "    x=queue[0]\n",
        "    queue=queue[1:]\n",
        "    for i in graph[x]:\n",
        "      if (not marked[i]):\n",
        "        queue.append(i)\n",
        "        level[i]=level[x]+1\n",
        "        marked[i]=True\n",
        "  for i in range(v):\n",
        "    print(i,\"--->\",level[i])"
      ],
      "execution_count": null,
      "outputs": []
    },
    {
      "cell_type": "code",
      "metadata": {
        "colab": {
          "base_uri": "https://localhost:8080/"
        },
        "id": "K6AWR1pFfMF1",
        "outputId": "22ec7cdb-2de7-4049-cd67-4c4eb63c68d1"
      },
      "source": [
        "V = 8\n",
        "graph = [[] for i in range(V)]\n",
        " \n",
        "graph[0].append(1)\n",
        "graph[0].append(2)\n",
        "graph[1].append(3)\n",
        "graph[1].append(4)\n",
        "graph[1].append(5)\n",
        "graph[2].append(5)\n",
        "graph[2].append(6)\n",
        "graph[6].append(7)\n",
        " \n",
        "  \n",
        "levels_nodes(graph, V, 0)"
      ],
      "execution_count": null,
      "outputs": [
        {
          "output_type": "stream",
          "name": "stdout",
          "text": [
            "0 ---> 0\n",
            "1 ---> 1\n",
            "2 ---> 1\n",
            "3 ---> 2\n",
            "4 ---> 2\n",
            "5 ---> 2\n",
            "6 ---> 2\n",
            "7 ---> 3\n"
          ]
        }
      ]
    },
    {
      "cell_type": "markdown",
      "metadata": {
        "id": "ps3y8iYVhptG"
      },
      "source": [
        "# Depth First Search"
      ]
    },
    {
      "cell_type": "code",
      "metadata": {
        "id": "xARF_GFOfbBB"
      },
      "source": [
        "def print_in_order(root):\n",
        "  # left root right\n",
        "  if root:\n",
        "    print_in_order(root.left)\n",
        "    print(root.val)\n",
        "    print_in_order(root.right)"
      ],
      "execution_count": null,
      "outputs": []
    },
    {
      "cell_type": "code",
      "metadata": {
        "id": "_s6W7t_SmJLc"
      },
      "source": [
        "def print_pre_order(root):\n",
        "  #  root left right\n",
        "  if root:\n",
        "    print(root.val)\n",
        "    print_in_order(root.left)\n",
        "    print_in_order(root.right)"
      ],
      "execution_count": null,
      "outputs": []
    },
    {
      "cell_type": "code",
      "metadata": {
        "id": "6ZtDEtDYmT5j"
      },
      "source": [
        "def print_post_order(root):\n",
        "  # left right root\n",
        "  if root:\n",
        "    print_in_order(root.left)\n",
        "    print_in_order(root.right)\n",
        "    print(root.val)"
      ],
      "execution_count": null,
      "outputs": []
    },
    {
      "cell_type": "code",
      "metadata": {
        "id": "CLZoGwLdiAFP"
      },
      "source": [
        "root = node(1)\n",
        "root.left = node(2)\n",
        "root.right = node(3)\n",
        "root.left.left = node(4)\n",
        "root.left.right = node(5)"
      ],
      "execution_count": null,
      "outputs": []
    },
    {
      "cell_type": "code",
      "metadata": {
        "id": "hWbhKfULiSMq"
      },
      "source": [
        "root_graph=node(1)\n",
        "queue=[]\n",
        "queue.append(root_graph)\n",
        "while len(queue)!=0:\n",
        "  root=queue[0]\n",
        "  queue=queue[1:]\n",
        "\n",
        "  in1=input(\"want to have a left node:\")\n",
        "  if in1==\"true\":\n",
        "    val=int(input(\"enter left node value:\"))\n",
        "    root.left=node(val)\n",
        "    queue.append(root.left)\n",
        "\n",
        "  in2=input(\"want to have a right node:\")\n",
        "  if in2==\"true\":\n",
        "    val=int(input(\"enter right node value:\"))\n",
        "    root.right=node(val)\n",
        "    queue.append(root.right)"
      ],
      "execution_count": null,
      "outputs": []
    },
    {
      "cell_type": "code",
      "metadata": {
        "id": "qo7lYBqniCW-"
      },
      "source": [
        "print_in_order(root_graph)"
      ],
      "execution_count": null,
      "outputs": []
    },
    {
      "cell_type": "code",
      "metadata": {
        "id": "DYR_kIijiJtn"
      },
      "source": [
        "if None:\n",
        "  print(\";;\")"
      ],
      "execution_count": null,
      "outputs": []
    },
    {
      "cell_type": "markdown",
      "metadata": {
        "id": "Ua8lkIS7m4V5"
      },
      "source": [
        "# BFS & DFS"
      ]
    },
    {
      "cell_type": "code",
      "metadata": {
        "id": "qSYniACTlugJ"
      },
      "source": [
        "from collections import defaultdict"
      ],
      "execution_count": null,
      "outputs": []
    },
    {
      "cell_type": "code",
      "metadata": {
        "id": "M1HtW-ngnK_4"
      },
      "source": [
        "class graph:\n",
        "  def __init__(self):\n",
        "    self.graph=defaultdict(list)\n",
        "  def addEdge(self,u,v):\n",
        "    self.graph[u].append(v)\n",
        "  def BFS(self,s):\n",
        "    visited=[False for i in range(max(self.graph)+1)]\n",
        "    queue=[s]\n",
        "    visited[s]=True\n",
        "    while queue:\n",
        "      s=queue.pop(0)\n",
        "      print(s)\n",
        "      for i in self.graph[s]:\n",
        "        if visited[i]==False:\n",
        "          queue.append(i)\n",
        "          visited[i]=True\n",
        "  def DFS(self,s):\n",
        "    print(s,end=\" \")\n",
        "    visited=[]\n",
        "    self.search(s,visited)\n",
        "\n",
        "  def search(self,s,visited):\n",
        "    visited.append(s)\n",
        "    for n in self.graph[s]:\n",
        "      if n not in visited:\n",
        "        self.search(n,visited)"
      ],
      "execution_count": null,
      "outputs": []
    },
    {
      "cell_type": "code",
      "metadata": {
        "id": "BsfZoF8vppkl"
      },
      "source": [
        "g = graph()\n",
        "g.addEdge(0, 1)\n",
        "g.addEdge(0, 2)\n",
        "g.addEdge(1, 2)\n",
        "g.addEdge(2, 0)\n",
        "g.addEdge(2, 3)\n",
        "g.addEdge(3, 3)"
      ],
      "execution_count": null,
      "outputs": []
    },
    {
      "cell_type": "code",
      "metadata": {
        "colab": {
          "base_uri": "https://localhost:8080/"
        },
        "id": "c942up_1psTU",
        "outputId": "1d45c80f-eb33-4952-a53b-64d7e8232382"
      },
      "source": [
        "g.BFS(2)"
      ],
      "execution_count": null,
      "outputs": [
        {
          "output_type": "stream",
          "name": "stdout",
          "text": [
            "2\n",
            "0\n",
            "3\n",
            "1\n"
          ]
        }
      ]
    },
    {
      "cell_type": "code",
      "metadata": {
        "colab": {
          "base_uri": "https://localhost:8080/"
        },
        "id": "uT9zFkKepzXM",
        "outputId": "4ff8e7ce-053f-4df2-ab9a-bcf0c175677d"
      },
      "source": [
        "g.DFS(2)"
      ],
      "execution_count": null,
      "outputs": [
        {
          "output_type": "stream",
          "name": "stdout",
          "text": [
            "2 "
          ]
        }
      ]
    },
    {
      "cell_type": "markdown",
      "metadata": {
        "id": "EAKd3FlwH0h-"
      },
      "source": [
        "# Dijkstra's Algorithm"
      ]
    },
    {
      "cell_type": "code",
      "metadata": {
        "id": "Qdgh96sMszFE"
      },
      "source": [
        "import sys\n",
        "class Graph:\n",
        "  def __init__(self,no_vertices):\n",
        "    self.v=no_vertices\n",
        "    self.graph=None\n",
        "  def minimum_distance(self,visited,distance):\n",
        "    min=sys.maxsize\n",
        "    min_index=0\n",
        "    for i in range(self.v):\n",
        "      if (visited[i]==False) and (distance[i]<min):\n",
        "        min=distance[i]\n",
        "        min_index=i\n",
        "    return min_index\n",
        "  def dijkstra_algorithm(self,src):\n",
        "    visited=[False]*self.v\n",
        "    distance=[sys.maxsize]*self.v\n",
        "    distance[src]=0\n",
        "    for neigh in range(self.v):\n",
        "      idx=self.minimum_distance(visited,distance)\n",
        "      visited[idx]=True\n",
        "      for y in range(len(self.graph[idx])):\n",
        "        if distance[y]>distance[idx]+self.graph[idx][y] and self.graph[idx][y]>0:\n",
        "          distance[y]=distance[idx]+self.graph[idx][y]\n",
        "    print(distance)"
      ],
      "execution_count": null,
      "outputs": []
    },
    {
      "cell_type": "code",
      "metadata": {
        "colab": {
          "base_uri": "https://localhost:8080/"
        },
        "id": "9NkYKZbrBfKH",
        "outputId": "9f1f533d-129e-4f06-a25d-1765a4a2504a"
      },
      "source": [
        "g = Graph(9)\n",
        "g.graph = [[0, 4, 0, 0, 0, 0, 0, 8, 0],\n",
        "        [4, 0, 8, 0, 0, 0, 0, 11, 0],\n",
        "        [0, 8, 0, 7, 0, 4, 0, 0, 2],\n",
        "        [0, 0, 7, 0, 9, 14, 0, 0, 0],\n",
        "        [0, 0, 0, 9, 0, 10, 0, 0, 0],\n",
        "        [0, 0, 4, 14, 10, 0, 2, 0, 0],\n",
        "        [0, 0, 0, 0, 0, 2, 0, 1, 6],\n",
        "        [8, 11, 0, 0, 0, 0, 1, 0, 7],\n",
        "        [0, 0, 2, 0, 0, 0, 6, 7, 0]\n",
        "        ];\n",
        " \n",
        "g.dijkstra_algorithm(0);"
      ],
      "execution_count": null,
      "outputs": [
        {
          "output_type": "stream",
          "name": "stdout",
          "text": [
            "[0, 4, 12, 19, 21, 11, 9, 8, 14]\n"
          ]
        }
      ]
    },
    {
      "cell_type": "markdown",
      "metadata": {
        "id": "N3EHQlMWaZvN"
      },
      "source": [
        "# Bellman Ford Algorithm"
      ]
    },
    {
      "cell_type": "code",
      "metadata": {
        "id": "kZxcF1lgBoqn"
      },
      "source": [
        "import sys\n",
        "class Graph:\n",
        "  def __init__(self,v):\n",
        "    self.vertices=v\n",
        "    self.graph=[]\n",
        "  def addEdge(self,u,v,w):\n",
        "    self.graph.append([u,v,w])\n",
        "  def bellman_ford_algorithm(self,src):\n",
        "    distance=[sys.maxsize]*self.vertices\n",
        "    distance[src]=0\n",
        "    for i in range(self.vertices-1):\n",
        "      for (u,v,w) in self.graph:\n",
        "        if distance[v]>distance[u]+w and distance[u]!=sys.maxsize:\n",
        "          distance[v]=distance[u]+w\n",
        "    \n",
        "    for (u,v,w) in self.graph:\n",
        "        if distance[v]>distance[u]+w and distance[u]!=sys.maxsize:\n",
        "          print(\"negative edge is contained avoided a cycle\")\n",
        "          break\n",
        "    \n",
        "    print(distance)"
      ],
      "execution_count": 10,
      "outputs": []
    },
    {
      "cell_type": "code",
      "metadata": {
        "colab": {
          "base_uri": "https://localhost:8080/"
        },
        "id": "5VduPdC8bkg7",
        "outputId": "2a283740-8496-40ee-b0a1-8f2069af9d6d"
      },
      "source": [
        "g = Graph(5)\n",
        "g.addEdge(0, 1, -1)\n",
        "g.addEdge(0, 2, 4)\n",
        "g.addEdge(1, 2, 3)\n",
        "g.addEdge(1, 3, 2)\n",
        "g.addEdge(1, 4, 2)\n",
        "g.addEdge(3, 2, 5)\n",
        "g.addEdge(3, 1, 1)\n",
        "g.addEdge(4, 3, -3)\n",
        " \n",
        "# Print the solution\n",
        "g.bellman_ford_algorithm(0)"
      ],
      "execution_count": 11,
      "outputs": [
        {
          "output_type": "stream",
          "name": "stdout",
          "text": [
            "[0, -1, 2, -2, 1]\n"
          ]
        }
      ]
    },
    {
      "cell_type": "code",
      "metadata": {
        "id": "E_ciKzZNbqhI"
      },
      "source": [
        ""
      ],
      "execution_count": null,
      "outputs": []
    }
  ]
}