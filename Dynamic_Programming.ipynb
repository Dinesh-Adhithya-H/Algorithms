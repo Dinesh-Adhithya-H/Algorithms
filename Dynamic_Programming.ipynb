{
  "nbformat": 4,
  "nbformat_minor": 0,
  "metadata": {
    "colab": {
      "name": "Dyanmic_Programming.ipynb",
      "provenance": [],
      "collapsed_sections": [],
      "authorship_tag": "ABX9TyO4JF2I+Sx5VNcvYj83nt9F",
      "include_colab_link": true
    },
    "kernelspec": {
      "name": "python3",
      "display_name": "Python 3"
    },
    "language_info": {
      "name": "python"
    }
  },
  "cells": [
    {
      "cell_type": "markdown",
      "metadata": {
        "id": "view-in-github",
        "colab_type": "text"
      },
      "source": [
        "<a href=\"https://colab.research.google.com/github/Dinesh-Adhithya-H/Algorithms/blob/main/Dyanmic_Programming.ipynb\" target=\"_parent\"><img src=\"https://colab.research.google.com/assets/colab-badge.svg\" alt=\"Open In Colab\"/></a>"
      ]
    },
    {
      "cell_type": "markdown",
      "metadata": {
        "id": "RUBpFW-K8gHW"
      },
      "source": [
        "# Algorithms\n",
        "\n",
        "Quiz 4"
      ]
    },
    {
      "cell_type": "markdown",
      "metadata": {
        "id": "Ne4QTdD78bgW"
      },
      "source": [
        "1. Consider an imaginary currency that is available in the fol-\n",
        "lowing denominations: 1, 4, 7, 13, 28, 52, 91, 365. Given an integer k, your\n",
        "goal is to express k using the minimum possible number of bills of the\n",
        "given denominations.\n",
        "(a) Consider the greedy algorithm that repeatedly takes the largest bill\n",
        "that does not exceed the target amount. For example, to make 122\n",
        "using the greedy algorithm, we first take a 91 bill, then a 28 bill, and\n",
        "finally three 1 bills. Give an example where this greedy algorithm\n",
        "uses more bills than the minimum possible.\n",
        "(b) Describe and analyze a recursive algorithm that computes, given an\n",
        "integer k, the minimum number of bills needed to make k. (Dont\n",
        "worry about making your algorithm fast; just make sure it’s correct.)\n",
        "(c) Describe a dynamic programming algorithm that computes, given an\n",
        "integer k, the minimum number of bills needed to make k. (This one\n",
        "needs to be fast.)\n"
      ]
    },
    {
      "cell_type": "markdown",
      "metadata": {
        "id": "TuKp2dUcqWba"
      },
      "source": [
        "Minimum change problem  greedy algorithm (recursion implementation)"
      ]
    },
    {
      "cell_type": "code",
      "metadata": {
        "id": "34JSS3EVxrEo"
      },
      "source": [
        "def minchange(x):\n",
        "  denominations=[1, 4, 7, 13, 28, 52, 91, 365]\n",
        "  if x==0:\n",
        "    return 0\n",
        "  v=1000000000\n",
        "  for c in denominations:\n",
        "    if c<=x:\n",
        "      v=min(minchange(x-c)+1,v)\n",
        "  return(v)"
      ],
      "execution_count": null,
      "outputs": []
    },
    {
      "cell_type": "markdown",
      "metadata": {
        "id": "DOj5UOSbq1rc"
      },
      "source": [
        "Minimum change problem greedy algorithm"
      ]
    },
    {
      "cell_type": "code",
      "metadata": {
        "id": "F4pdr-R3mC1y"
      },
      "source": [
        "def minchange_g(x):\n",
        "  denominations=[1, 4, 7, 13, 28, 52, 91, 365]\n",
        "  ans=[]\n",
        "  i=len(denominations)-1\n",
        "  while i>=0:\n",
        "    while denominations[i]<=x:\n",
        "      ans.append(denominations[i])\n",
        "      x=x-denominations[i]\n",
        "    i=i-1\n",
        "  print(ans)\n",
        "  return(len(ans))"
      ],
      "execution_count": null,
      "outputs": []
    },
    {
      "cell_type": "code",
      "metadata": {
        "colab": {
          "base_uri": "https://localhost:8080/"
        },
        "id": "qcy9SoEIyPnU",
        "outputId": "b245a417-3b38-4fc0-bf0e-36b6c746f8aa"
      },
      "source": [
        "minchange(16)"
      ],
      "execution_count": null,
      "outputs": [
        {
          "output_type": "execute_result",
          "data": {
            "text/plain": [
              "4"
            ]
          },
          "metadata": {
            "tags": []
          },
          "execution_count": 68
        }
      ]
    },
    {
      "cell_type": "markdown",
      "metadata": {
        "id": "Cv7IgMSnq_vS"
      },
      "source": [
        "Minimum change problem dynamic programming implementation"
      ]
    },
    {
      "cell_type": "code",
      "metadata": {
        "id": "A355O_IUyWIm"
      },
      "source": [
        "def minchange_dp(x):\n",
        "  denominations=[1, 4, 7, 13, 28, 52, 91, 365]\n",
        "  ans=[]\n",
        "  dp=[0 for i in range(x+1)]\n",
        "  for i in range(1,x+1):\n",
        "    dp[i]=100000000000\n",
        "    for d in denominations:\n",
        "      if d<=i:\n",
        "        if dp[i-d]+1<dp[i]:\n",
        "          dp[i]=dp[i-d]+1\n",
        "  #print(dp)\n",
        "  i=x\n",
        "  while i>0:\n",
        "    for c in denominations:\n",
        "      if dp[i]==dp[i-c]+1:\n",
        "        print\n",
        "        i=i-c\n",
        "        ans.append(c)\n",
        "  print(ans)\n",
        "  return dp[x]"
      ],
      "execution_count": null,
      "outputs": []
    },
    {
      "cell_type": "code",
      "metadata": {
        "colab": {
          "base_uri": "https://localhost:8080/"
        },
        "id": "cuW2pLg8nKph",
        "outputId": "8a3ca7da-e62a-4afa-9f41-59a887c7e064"
      },
      "source": [
        "minchange(16)"
      ],
      "execution_count": null,
      "outputs": [
        {
          "output_type": "execute_result",
          "data": {
            "text/plain": [
              "4"
            ]
          },
          "metadata": {
            "tags": []
          },
          "execution_count": 95
        }
      ]
    },
    {
      "cell_type": "markdown",
      "metadata": {
        "id": "lGxAB4RerhfI"
      },
      "source": [
        "Least number when greedy algo uses more coins"
      ]
    },
    {
      "cell_type": "code",
      "metadata": {
        "colab": {
          "base_uri": "https://localhost:8080/"
        },
        "id": "KpvFpWDLrnxn",
        "outputId": "a11606e9-f5be-43ec-9a5e-5aaccbbee2cc"
      },
      "source": [
        "for i in range(1000):\n",
        "  if minchange_dp(i)!=minchange_g(i):\n",
        "    print(i)"
      ],
      "execution_count": null,
      "outputs": [
        {
          "output_type": "stream",
          "text": [
            "416\n",
            "455\n",
            "507\n",
            "546\n",
            "598\n",
            "637\n",
            "689\n",
            "728\n",
            "781\n",
            "820\n",
            "872\n",
            "911\n",
            "963\n"
          ],
          "name": "stdout"
        }
      ]
    },
    {
      "cell_type": "code",
      "metadata": {
        "colab": {
          "base_uri": "https://localhost:8080/"
        },
        "id": "dZxEzCqTr-W8",
        "outputId": "39f01e97-d8e7-4df7-d2c7-60798a7fae9f"
      },
      "source": [
        "minchange_dp(416),minchange_g(416)"
      ],
      "execution_count": null,
      "outputs": [
        {
          "output_type": "stream",
          "text": [
            "[52, 91, 91, 91, 91]\n",
            "[365, 28, 13, 7, 1, 1, 1]\n"
          ],
          "name": "stdout"
        },
        {
          "output_type": "execute_result",
          "data": {
            "text/plain": [
              "(5, 7)"
            ]
          },
          "metadata": {
            "tags": []
          },
          "execution_count": 98
        }
      ]
    },
    {
      "cell_type": "code",
      "metadata": {
        "colab": {
          "base_uri": "https://localhost:8080/",
          "height": 592
        },
        "id": "ZrDpWBaqnMDa",
        "outputId": "9ade34c2-2370-44c4-9619-5055a6e96342"
      },
      "source": [
        "x=[i for i in range(1,2000)]\n",
        "y=[minchange(i) for i in x]\n",
        "import matplotlib.pyplot as plt\n",
        "plt.figure(figsize=(10,10))\n",
        "plt.plot(x,y)\n",
        "plt.show()"
      ],
      "execution_count": null,
      "outputs": [
        {
          "output_type": "display_data",
          "data": {
            "image/png": "[encoded data removed]",
            "text/plain": [
              "<Figure size 720x720 with 1 Axes>"
            ]
          },
          "metadata": {
            "tags": [],
            "needs_background": "light"
          }
        }
      ]
    },
    {
      "cell_type": "markdown",
      "metadata": {
        "id": "PpCqXsfE8VsJ"
      },
      "source": [
        "2.A subsequence is anything obtained from a sequence by ex-\n",
        "tracting a subset of elements, but keeping them in the same order; the ele-\n",
        "ments of the subsequence need not be contiguous in the original sequence.\n",
        "\n",
        "For example, the strings C,DAMN,YAIOAI, and DYNAMICPROGRAM-\n",
        "MING are all subsequences of the string DYNAMICPROGRAMMING.\n",
        "\n",
        "(a) Let A[1 . . . m] and B[1 . . . n] be two arbitrary arrays. A common\n",
        "supersequence of A and B is another sequence that contains both A\n",
        "and B as subsequences. Describe an efficient algorithm to compute\n",
        "the length ofthe shortest common supersequence of A and B.\n",
        "(b) Call a sequence X[1 . . . n] of numbers bitonic if there is an index\n",
        "i with 1 < i < n, such that the prefix X[1 . . . i] is increasing and\n",
        "the suffix X[i . . . n] is decreasing. Describe an efficient algorithm to\n",
        "compute the length of the longest bitonic subsequence of an arbitrary\n",
        "array A of integers.\n",
        "\n",
        "1\n",
        "\n",
        "(c) Call a sequence X[1 . . . n] of numbers oscillating if X[i] < X[i +\n",
        "1] forall even i, and X[i] > X[i + 1] for all odd i. Describe an\n",
        "efficient algorithm to compute the length of the longest oscillating\n",
        "subsequence of an arbitrary array A of integers."
      ]
    },
    {
      "cell_type": "code",
      "metadata": {
        "id": "XP6qtS92pFbh"
      },
      "source": [
        "def supersequence(x,y):\n",
        "  n=len(x)\n",
        "  m=len(y)\n",
        "  table=[[0 for i in range(m+1)] for j in range(n+1)]\n",
        "  for i in range(1,n+1):\n",
        "    for j in range(1,m+1):\n",
        "      if (x[i-1]==y[j-1]):\n",
        "        table[i][j]=table[i-1][j-1]+1\n",
        "      else:\n",
        "        table[i][j]=max(table[i-1][j],table[i][j-1])\n",
        "  print(table)\n",
        "  return (n+m-table[n][m])"
      ],
      "execution_count": null,
      "outputs": []
    },
    {
      "cell_type": "code",
      "metadata": {
        "colab": {
          "base_uri": "https://localhost:8080/"
        },
        "id": "oBSORzgE-OR2",
        "outputId": "41cf3312-ee29-4079-d6a7-3e20678fc3f4"
      },
      "source": [
        "X =\"YAIOAI\"\n",
        "Y =\"DAMN\"\n",
        "supersequence(X,Y)"
      ],
      "execution_count": null,
      "outputs": [
        {
          "output_type": "stream",
          "text": [
            "[[0, 0, 0, 0, 0], [0, 0, 0, 0, 0], [0, 0, 1, 1, 1], [0, 0, 1, 1, 1], [0, 0, 1, 1, 1], [0, 0, 1, 1, 1], [0, 0, 1, 1, 1]]\n"
          ],
          "name": "stdout"
        },
        {
          "output_type": "execute_result",
          "data": {
            "text/plain": [
              "9"
            ]
          },
          "metadata": {
            "tags": []
          },
          "execution_count": 126
        }
      ]
    },
    {
      "cell_type": "code",
      "metadata": {
        "id": "n4TlzjrN-S4G"
      },
      "source": [
        "def bitonic_seq(x):\n",
        "  inc=[1 for i in range(len(x))]\n",
        "  dec=[1 for i in range(len(x))]\n",
        "  for i in range(0,len(x)):\n",
        "    for j in range(0,i):\n",
        "      if x[j]<x[i] and inc[i]<inc[j]+1:\n",
        "        inc[i]=1+inc[j]\n",
        "  for i in range(len(x)-1,-1,-1):\n",
        "    for j in range(i,len(x)):\n",
        "      if x[j]<x[i] and dec[i]<dec[j]+1:\n",
        "        dec[i]=1+dec[j]\n",
        "  max=0\n",
        "  for i in range(len(x)):\n",
        "    if inc[i]+dec[i]-1>max:\n",
        "      max=inc[i]+dec[i]-1\n",
        "  return (max)"
      ],
      "execution_count": null,
      "outputs": []
    },
    {
      "cell_type": "code",
      "metadata": {
        "colab": {
          "base_uri": "https://localhost:8080/"
        },
        "id": "SGIGu13a-7BF",
        "outputId": "43a0d069-2e4f-41f1-c5b9-b7ba3e3b0b73"
      },
      "source": [
        "bitonic_seq([80, 60, 30, 40, 20, 10])"
      ],
      "execution_count": null,
      "outputs": [
        {
          "output_type": "execute_result",
          "data": {
            "text/plain": [
              "5"
            ]
          },
          "metadata": {
            "tags": []
          },
          "execution_count": 158
        }
      ]
    },
    {
      "cell_type": "code",
      "metadata": {
        "id": "HLARP8q1caGh"
      },
      "source": [
        "def alternating_seq(x):\n",
        "  inc=1\n",
        "  dec=1\n",
        "  for i in range(1,len(x)):\n",
        "    if x[i]>x[i-1]:\n",
        "      inc=dec+1\n",
        "    elif x[i]<x[i-1]:\n",
        "      dec=inc+1\n",
        "  return max(inc,dec)"
      ],
      "execution_count": null,
      "outputs": []
    },
    {
      "cell_type": "code",
      "metadata": {
        "colab": {
          "base_uri": "https://localhost:8080/"
        },
        "id": "VQUaUNHB4Mzu",
        "outputId": "e7bb119b-92ca-4ec4-a63b-8719f3128f5c"
      },
      "source": [
        "alternating_seq([10, 22, 9, 33, 49, 50, 31, 60])"
      ],
      "execution_count": null,
      "outputs": [
        {
          "output_type": "execute_result",
          "data": {
            "text/plain": [
              "6"
            ]
          },
          "metadata": {
            "tags": []
          },
          "execution_count": 4
        }
      ]
    },
    {
      "cell_type": "markdown",
      "metadata": {
        "id": "cLe0-IxD8NgB"
      },
      "source": [
        "3. In the text segmentation problem we are given a string\n",
        "A[1 . . . n] and a subroutine IsW ord() that takes an array of characters\n",
        "as input and returns TRUE if and only if the input is a “word”. Our\n",
        "goal is to know whether A can be partitioned into a sequence of words.\n",
        "\n",
        "Describe efficient algorithms for the following variants of the text segmen-\n",
        "tation problem. Analyze your algorithms by bounding the number of calls\n",
        "\n",
        "to IsW ord().\n",
        "\n",
        "(a) Given an array A[1 . . . n] of characters, compute the number of par-\n",
        "titions of A into words. For example, given the string ARTISTOIL,\n",
        "\n",
        "your algorithm should return 2, for the partitions ARTIST·OIL and\n",
        "ART·IS·TOIL.\n",
        "(b) Given two arrays A[1 . . . n] and B[1 . . . n] of characters, decide whether\n",
        "A and B can be partitioned into words at the same indices. For\n",
        "\n",
        "example, the strings BOTHEARTHANDSATURNSPIN and PIN-\n",
        "STARTRAPSANDRAGSLAP can be partitioned into words at the\n",
        "\n",
        "same indices as follows: BOT·HEART·HAND·SAT·URNS·PIN and\n",
        "PIN·START·RAPS·AND·RAGS·LAP, respectively."
      ]
    },
    {
      "cell_type": "code",
      "metadata": {
        "colab": {
          "base_uri": "https://localhost:8080/"
        },
        "id": "r-3UO7Llo4er",
        "outputId": "86c5113e-a9a5-43df-942e-e2254fcae384"
      },
      "source": [
        "def wordBreak(dict, str, count):\n",
        "    if not str:\n",
        "      count+=1\n",
        "      return count\n",
        "    for i in range(1, len(str) + 1):\n",
        "      prefix = str[:i]\n",
        "      if prefix in dict:\n",
        "        count=wordBreak(dict, str[i:],count)\n",
        "    return count\n",
        "dict = [\"ARTIST\",\"OIL\",\"IS\",\"TOIL\",\"ART\"]\n",
        "str = \"ARTISTOIL\"\n",
        "wordBreak(dict, str,0)"
      ],
      "execution_count": 85,
      "outputs": [
        {
          "output_type": "execute_result",
          "data": {
            "text/plain": [
              "2"
            ]
          },
          "metadata": {
            "tags": []
          },
          "execution_count": 85
        }
      ]
    },
    {
      "cell_type": "code",
      "metadata": {
        "id": "iVQgZ3KTqMvt"
      },
      "source": [
        "def wordBreak(dict, str,arr,array):\n",
        "    if not str:\n",
        "      array+=[arr]\n",
        "      return ([],array)\n",
        "    for i in range(1, len(str) + 1):\n",
        "      prefix = str[:i]\n",
        "      if prefix in dict:\n",
        "        arr+=[i]\n",
        "        arr,array=wordBreak(dict, str[i:],arr,array)\n",
        "    return (arr,array)\n",
        "dict = [\"ARTIST\",\"OIL\",\"IS\",\"TOIL\",\"ART\"]\n",
        "str = \"ARTISTOIL\"\n",
        "arr,array=wordBreak(dict, str,[],[])"
      ],
      "execution_count": 94,
      "outputs": []
    },
    {
      "cell_type": "code",
      "metadata": {
        "id": "l1WAa6AkqPrx"
      },
      "source": [
        "def check(array,string):  \n",
        "  for i in array:\n",
        "    count=False\n",
        "    str=string\n",
        "    for j in i:\n",
        "      prefix=str[:i]\n",
        "      str=str[i:]\n",
        "      if prefix in dict:\n",
        "        count=True\n",
        "      else:\n",
        "        count=False \n",
        "        break\n",
        "    if count==True:\n",
        "      return True\n",
        "  return False"
      ],
      "execution_count": 98,
      "outputs": []
    },
    {
      "cell_type": "code",
      "metadata": {
        "id": "XMol1Oa-rltf"
      },
      "source": [
        ""
      ],
      "execution_count": null,
      "outputs": []
    }
  ]
}
