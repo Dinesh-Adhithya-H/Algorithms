{
  "nbformat": 4,
  "nbformat_minor": 0,
  "metadata": {
    "colab": {
      "name": "Weighted_Scheduled_Programming.ipynb",
      "provenance": []
    },
    "kernelspec": {
      "name": "python3",
      "display_name": "Python 3"
    },
    "language_info": {
      "name": "python"
    }
  },
  "cells": [
    {
      "cell_type": "code",
      "metadata": {
        "id": "x0q1TSsInBfH"
      },
      "source": [
        "jobs=[[3, 10, 20], [1, 2, 50], [6, 19, 100], [2, 100, 200]]"
      ],
      "execution_count": 14,
      "outputs": []
    },
    {
      "cell_type": "code",
      "metadata": {
        "id": "yMX-nPTRoGGM"
      },
      "source": [
        "def latest_non_conflict(jobs,i1):\n",
        "  for i in range(i1-1,-1,-1):\n",
        "    if jobs[i][1]<=jobs[i1][0]:\n",
        "      return i\n",
        "  return -1"
      ],
      "execution_count": 46,
      "outputs": []
    },
    {
      "cell_type": "code",
      "metadata": {
        "id": "VfRC0t4XskD_"
      },
      "source": [
        "def sortSecond(val):\n",
        "    return val[1]"
      ],
      "execution_count": 47,
      "outputs": []
    },
    {
      "cell_type": "code",
      "metadata": {
        "id": "gSq6zozyp7rH"
      },
      "source": [
        "def max_profit_path(jobs,n):\n",
        "  jobs.sort(key=sortSecond)\n",
        "  print(\"sorted array\",jobs)\n",
        "  table=[]\n",
        "  table.append(jobs[0][2])\n",
        "  for i in range(1,n):\n",
        "    profit=jobs[i][2]\n",
        "    l=latest_non_conflict(jobs,i)\n",
        "    if l!=-1:\n",
        "      profit+=table[l]\n",
        "    table.append(max(profit,table[i-1]))\n",
        "  return table"
      ],
      "execution_count": 50,
      "outputs": []
    },
    {
      "cell_type": "code",
      "metadata": {
        "colab": {
          "base_uri": "https://localhost:8080/",
          "height": 0
        },
        "id": "H4Vf4xmYsUhx",
        "outputId": "0e68f5c1-bd10-475a-cd87-ffd2c91769ee"
      },
      "source": [
        "max_profit_path(jobs,len(jobs))"
      ],
      "execution_count": 51,
      "outputs": [
        {
          "output_type": "stream",
          "text": [
            "sorted array [[1, 2, 50], [3, 10, 20], [6, 19, 100], [2, 100, 200]]\n"
          ],
          "name": "stdout"
        },
        {
          "output_type": "execute_result",
          "data": {
            "text/plain": [
              "[50, 70, 150, 250]"
            ]
          },
          "metadata": {
            "tags": []
          },
          "execution_count": 51
        }
      ]
    },
    {
      "cell_type": "code",
      "metadata": {
        "id": "37RX54wOsfvb"
      },
      "source": [
        ""
      ],
      "execution_count": 45,
      "outputs": []
    },
    {
      "cell_type": "code",
      "metadata": {
        "id": "741eyXCLuTzL"
      },
      "source": [
        ""
      ],
      "execution_count": null,
      "outputs": []
    }
  ]
}