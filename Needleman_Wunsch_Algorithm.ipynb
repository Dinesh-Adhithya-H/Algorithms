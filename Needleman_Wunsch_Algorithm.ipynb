{
  "nbformat": 4,
  "nbformat_minor": 0,
  "metadata": {
    "colab": {
      "name": "Needleman-Wunsch Algorithm.ipynb",
      "provenance": [],
      "collapsed_sections": [],
      "authorship_tag": "ABX9TyNkoFs5115mKVgrSsUlbISx",
      "include_colab_link": true
    },
    "kernelspec": {
      "name": "python3",
      "display_name": "Python 3"
    },
    "language_info": {
      "name": "python"
    }
  },
  "cells": [
    {
      "cell_type": "markdown",
      "metadata": {
        "id": "view-in-github",
        "colab_type": "text"
      },
      "source": [
        "<a href=\"https://colab.research.google.com/github/Dinesh-Adhithya-H/Algorithms/blob/main/Needleman_Wunsch_Algorithm.ipynb\" target=\"_parent\"><img src=\"https://colab.research.google.com/assets/colab-badge.svg\" alt=\"Open In Colab\"/></a>"
      ]
    },
    {
      "cell_type": "code",
      "metadata": {
        "id": "C55sPjXl3pX6"
      },
      "source": [
        "def alpha(x,y):\n",
        "  if x==y:\n",
        "    return 0\n",
        "  else:\n",
        "    return 1"
      ],
      "execution_count": 10,
      "outputs": []
    },
    {
      "cell_type": "code",
      "metadata": {
        "id": "5FFRrV0U7Sge"
      },
      "source": [
        "def delta():\n",
        "  return 0.5"
      ],
      "execution_count": 11,
      "outputs": []
    },
    {
      "cell_type": "code",
      "metadata": {
        "id": "VhNjPnn97YyJ"
      },
      "source": [
        "def Needleman_Wunsch(seq1,seq2,n,m):\n",
        "  table=[ [0 for i in range(n+1)] for j in range(m+1)]\n",
        "  for i in range(n+1):\n",
        "    table[0][i]=delta()*i\n",
        "  for i in range(m+1):\n",
        "    table[i][0]=delta()*i\n",
        "  for i in range(1,m+1):\n",
        "    for j in range(1,n+1):\n",
        "      table[i][j]=min(table[i-1][j-1]+alpha(seq1[j-1],seq2[i-1]),table[i][j-1]+delta(),table[i-1][j]+delta())\n",
        "  s1=''\n",
        "  s2=''\n",
        "  i=m\n",
        "  j=n\n",
        "  while i>0 and j>0:\n",
        "    next_value=min(table[i-1][j-1],table[i-1][j],table[i][j-1])\n",
        "    if next_value==table[i-1][j-1]:\n",
        "      s2=seq2[i-1]+s2\n",
        "      s1=seq1[j-1]+s1\n",
        "      i=i-1\n",
        "      j=j-1\n",
        "    elif next_value==table[i][j-1]:\n",
        "      s2=\"-\"+s2\n",
        "      s1=seq1[j-1]+s1\n",
        "      j=j-1\n",
        "    elif next_value==table[i-1][j]:\n",
        "      s1=\"-\"+s1\n",
        "      s2=seq2[i-1]+s2\n",
        "      i=i-1\n",
        "  return(s1,s2)"
      ],
      "execution_count": 48,
      "outputs": []
    },
    {
      "cell_type": "code",
      "metadata": {
        "id": "SyognHrA9nTy"
      },
      "source": [
        "s1=\"ALGORITHM\"\n",
        "s2=\"ALORTHM\"\n",
        "n=len(s1)\n",
        "m=len(s2)"
      ],
      "execution_count": 49,
      "outputs": []
    },
    {
      "cell_type": "code",
      "metadata": {
        "colab": {
          "base_uri": "https://localhost:8080/"
        },
        "id": "hidEjXr991U4",
        "outputId": "bf58cfc4-cff5-45b7-f4ad-d1f027b149cc"
      },
      "source": [
        "Needleman_Wunsch(s1,s2,n,m)"
      ],
      "execution_count": 50,
      "outputs": [
        {
          "output_type": "execute_result",
          "data": {
            "text/plain": [
              "('ALGORITHM', 'AL-OR-THM')"
            ]
          },
          "metadata": {
            "tags": []
          },
          "execution_count": 50
        }
      ]
    },
    {
      "cell_type": "code",
      "metadata": {
        "id": "1GcQhZHI94yV"
      },
      "source": [
        ""
      ],
      "execution_count": null,
      "outputs": []
    }
  ]
}