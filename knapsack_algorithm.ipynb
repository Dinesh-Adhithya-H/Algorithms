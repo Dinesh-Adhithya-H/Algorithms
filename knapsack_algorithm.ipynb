{
  "nbformat": 4,
  "nbformat_minor": 0,
  "metadata": {
    "colab": {
      "name": "knapsack_algorithm.ipynb",
      "provenance": [],
      "authorship_tag": "ABX9TyN0fBzroZqihldmpISPzirI",
      "include_colab_link": true
    },
    "kernelspec": {
      "name": "python3",
      "display_name": "Python 3"
    },
    "language_info": {
      "name": "python"
    }
  },
  "cells": [
    {
      "cell_type": "markdown",
      "metadata": {
        "id": "view-in-github",
        "colab_type": "text"
      },
      "source": [
        "<a href=\"https://colab.research.google.com/github/Dinesh-Adhithya-H/Algorithms/blob/main/knapsack_algorithm.ipynb\" target=\"_parent\"><img src=\"https://colab.research.google.com/assets/colab-badge.svg\" alt=\"Open In Colab\"/></a>"
      ]
    },
    {
      "cell_type": "code",
      "metadata": {
        "id": "t1NJFFAsseY4"
      },
      "source": [
        "def knapsack(weights,values,n,wt):\n",
        "  opt=[[0 for i in range(wt+1) ] for j in range(n+1)]\n",
        "  for i in range(n+1):\n",
        "    for w in range(wt+1):\n",
        "      if i==0 or w==0:\n",
        "        opt[i][w]=0\n",
        "      elif weights[i-1]<=w:\n",
        "        opt[i][w]=max(values[i-1]+opt[i-1][w-weights[i-1]],opt[i-1][w])\n",
        "      else:\n",
        "        opt[i][w]=opt[i-1][w]\n",
        "  return(opt[n][wt])"
      ],
      "execution_count": 14,
      "outputs": []
    },
    {
      "cell_type": "code",
      "metadata": {
        "id": "Ow0Yv7lKwLGX"
      },
      "source": [
        "val = [60, 100, 120]\n",
        "wt = [10, 20, 30]\n",
        "W = 50\n",
        "n = len(val)\n",
        "opt=knapsack(wt,val,n,W)"
      ],
      "execution_count": 15,
      "outputs": []
    },
    {
      "cell_type": "code",
      "metadata": {
        "colab": {
          "base_uri": "https://localhost:8080/"
        },
        "id": "ky2lmiicwbvp",
        "outputId": "5a499804-e161-4f80-ff8a-a984f776f2e1"
      },
      "source": [
        "opt"
      ],
      "execution_count": 16,
      "outputs": [
        {
          "output_type": "execute_result",
          "data": {
            "text/plain": [
              "220"
            ]
          },
          "metadata": {
            "tags": []
          },
          "execution_count": 16
        }
      ]
    },
    {
      "cell_type": "code",
      "metadata": {
        "id": "k-ajCCLuwzjM"
      },
      "source": [
        ""
      ],
      "execution_count": null,
      "outputs": []
    }
  ]
}